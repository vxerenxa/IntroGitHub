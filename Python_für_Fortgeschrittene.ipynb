{
  "nbformat": 4,
  "nbformat_minor": 0,
  "metadata": {
    "colab": {
      "name": "Python_für_Fortgeschrittene.ipynb",
      "provenance": [],
      "include_colab_link": true
    },
    "kernelspec": {
      "name": "python3",
      "display_name": "Python 3"
    },
    "language_info": {
      "name": "python"
    }
  },
  "cells": [
    {
      "cell_type": "markdown",
      "metadata": {
        "id": "view-in-github",
        "colab_type": "text"
      },
      "source": [
        "<a href=\"https://colab.research.google.com/github/vxerenxa/IntroGitHub/blob/main/Python_f%C3%BCr_Fortgeschrittene.ipynb\" target=\"_parent\"><img src=\"https://colab.research.google.com/assets/colab-badge.svg\" alt=\"Open In Colab\"/></a>"
      ]
    },
    {
      "cell_type": "markdown",
      "source": [
        "## Numpy\n",
        "\n",
        "NumPy ist eine Programmbibliothek für die Programmiersprache Python, die eine einfache Handhabung von Vektoren, Matrizen oder generell großen mehrdimensionalen Arrays ermöglicht. Neben den Datenstrukturen bietet NumPy auch effizient implementierte Funktionen für numerische Berechnungen an. [Wikipedia](https://de.wikipedia.org/wiki/NumPy)\n",
        "\n"
      ],
      "metadata": {
        "id": "mIosNwt1dSu3"
      }
    },
    {
      "cell_type": "markdown",
      "source": [
        "### Aufgaben Matrizen\n",
        "\n",
        "In der Robotik werden oft Matrizen verwendet um zwischen verschiedenen Koordinatensystemen zu wechseln (Beispiel: Position der Hand, wenn sich die Position des Ellenbogen verändert.). Hierzu sind die Rotationsmatrix und der Translationsvektor erforderlich. Rotationsmatrizen für Drehungen um verschiedene Achsen um den [Winkel θ](https://upload.wikimedia.org/wikipedia/commons/6/69/Alias_and_alibi_rotations.png) werden wie folgt definiert:\n",
        "\n",
        "![Rotation.png](data:image/png;base64,iVBORw0KGgoAAAANSUhEUgAAA3EAAAB2CAYAAABmmRppAAAAAXNSR0IArs4c6QAAAARnQU1BAACxjwv8YQUAAAAJcEhZcwAADsQAAA7EAZUrDhsAADmgSURBVHhe7Z1brBXV/ccHtdKmEZC+2AcBtfWtB9T40IciCvGhRkD6zEV9qGmCeIkvTbioSZ8UvCTyBChNHwGhbzWAok2af4K3xqRtAqhp40vFS020DbD/81nM97jOcmafvc/Zc/bM3t9PMmfOXPfMb631W7/fb11mXicnM8YYY4wxxhjTCq4o1sYYY4wxxhhjWoCdOGOMMcYYY4xpEXbijDHGGGOMMaZF2IkzxhhjjDHGmBZhJ84YY4wxxhhjWoSdOGOMMcYYY4xpEXbijDHGGGOMMaZF2IkzxhhjjDHGmBZhJ84YY4wxxhhjWoSdOGOMMcYYY4xpEXbijDHGGGOMMaZF2IkzxhhjjDHGmBZhJ84YY4wxxhhjWsS8Tk7xvzHGmDHm0qVLxX9TmTdvXliMqZuqPAhXXOG4szHGCDtxDebf//539v777xdbU1m8eHG2YsWKYsuYerhw4UJ26tSpYmsqGFSrVq0qtkzbOXbsWLZu3bpiaypr1qzJXnvttWLLmHr47LPPQt1Wxvz587Ovv/7awYQR489//nP229/+ttiayu23354988wzxZYx9fDVV19l99xzT7E1lauvvjr705/+1Fi9YyeuwdioMsPGRtX4IH1z8803Z9ddd12x9zJtN6ao5j766KNs6dKlzq9DhHR47733suXLl5emQ5UxRTATXWN9M3rYzjHDps12jp24BiPl9thjj32nYnNLnJkLqlrinnjiieyDDz6wUTVCSN/s3bs3e+ihh4q97eftt9/OHn300WzhwoXBGXj11VeHrjsxGt59993w/7Jly7Ibbrgh/D9szp07l73xxhvZli1bij2DQ+lw7bXXhnfvJx0w5t966y3rmxFEeuell17Kfv3rXxd7L0NaNzW9z549mz311FPZF198kW3atCm77777iiPtRi5BHXJHv7z88svBpti6dWu2YcOG4ki98E7TvU9ZN+6777678XrHHcxbwE9/+tPsrrvumrJMV/l9/vnnocJsi49+4sSJbNeuXcF4eO6554KRM+4cOHAge+SRR8LC/8Pgqquu+k7eY8EQM6bpvPPOO9nq1auzPXv2TBqLO3fuLI4Oh5MnT2Y33nhjcGJef/317M477xz6MwF1xS233JLdf//9A9c3cTrw3ps3bw71kzECI5ku+vHSVMN5//79oR58+OGHsx07dgRnBAel7fAONBCgBwZtO6IDbr311hC0OnLkSGicwO6rE/QNtjI6lt89fPhwceS7pHmPpQ3YiRshKIAYAzhCRHZxhtrgxGEwoAQnJiaybdu2hcKOgvzwww+LM8YPjJznn38+GJ36v47ouDGjCoEg9AgRX4wHWLRoUXDmhqUXeSZ0HYYfZfrJJ58MTh0RfQzDYYLBfMcdd2QLFiwY6FhXvXOcDhhWOLBtCTIaI2hRfvDBB0N5JT+Tl+keTHCi7RD8Z6HLM+tBEetigkToYbq2owPrAluS++MwomtwGB944IGh69lBYyduhMCJo1KkIqaAtAG6JFCwiJhQ0RMBeuWVV8J7NCE6PQxQMgcPHgzKhwgSMsHQQy7DapEzpm3Qgq0eCUJOA4GiYUBXIp4pDsgQcENnv/DCC0N3ao4ePRqeb5DdO3FUCcjF6aCeFug1Y9oC5RN7ZeXKlaFuFjglo+DEYWucPn06OKqD7G2DvkN2sQ5AZnRvr0PnYQujT3HkpMvo/UBA/PHHHx+6nh0kduJGCCIdRHQpMBSQNiDFl3YPpQUKR+b8+fPFnvEBQwonPDakUKgYekSWRkkBmfGAPKuliumO9wPBIfQHY1ViY4TxK/F6rqFsQ6qfKe9Ev+eyS1aVrHvpwtZrWpEO6Ky1a9dOSQcmmTGmbRBEpZziDMTlhHGkTe362S+0LuLMDQocQno/pLqYYFFdva0UHKKFNAYbit8lQD4q2IkzQ4XCDVVj/FCO4wSGETIpa0nl2KC7ORhTN7t37w5Ra4ISGAe0kKXQEr9+/fowOQBd+crGLtAyzzlUxAR5OLeqJUfddOJugZQfTSaSVu5zAb9fpc9U3uvuQk43TmSHXFiQIbIH5Es6sailkufhPO1H9zB2Wdt02e8GvQeA34yhexMwTsWYmUAeJc+y4FyV1YvoB51T1fqOriFPcw7GfZWBT/klSA50CRQKvHC8DSAH3peFngHITnoHebFwTO/DMcqrzgWd04szJF0c9z7g3tgydfUYk55NHWs5kfz2qGAnzgwNCvJ0Rsuwuj0NC8mjLKqnfeMmE9NeaIGhWwuOAnlb4zvlOACOGZUuRgIt8xgKGEt0hRE4HzhgGA2cyzkYEmWGE/vU4kVlzbn8Ht36mBWNWSrjiPBcUfasQmW7zgANMiBAhIwxylhjgOo3SQdkwzF1d6TFkDTjPPZzDg4Z/5O2dI+qmiyA91VPC+SudMBY1vdPB9lt04wH5FcFfAj+EtShbBNUEDqHIAPHCUQQPGJfXMY4hq4gL3MOuomlrKxS79KCTP7nOAszGsph4PqmQxnEAaU7KO9BuaZ7KGveB8cMuSJPyQA9i+y4jqAM11GuCYRR/qsC8MA96BGBXuF8yYzfozcEQZw6WjCna+mvU8/ONXbiRpw6CsggUWGTwhDp9riAcgPef1xlYEYDDIY//vGPwQFT9xy1vGhNKx1GFMa9HCsMe67B+dPsZRhK6DLpM2ZQS7s0CcqQvgnHJB1s45SobGG4DUMvxr9Z9ft1RoiRc+y88j8yFKRR7DgDThzGm9KL40pLjW9Rb4oUZI6zRjosWbJkMh1w5jGiMJyHkQ6m3ZBnycvoBhwOtRCTv1Rncg5BH85jmAnnEHhgH7oF6OZHcAGnjS6EnNOtZYnrgXteeeWVYfZC1jhBUFer0qBANpRZHDJkQjnGWWNCOaAsomdjnQCUf/Vg4LgmDEH2BGTQWTh6ZWg/DhszXUtmN910U9iv3x4kvdhOep9RwE7ciNMWRyCtzLU9bpV8/L7puystx00mpp2oK10coabiJx9rrXPSbnVyFDAWAMcO44mor7o9cSyOvgu1ZhMxpkVPC9FgIBo/DGJdPAy9jPOKIcoAfyLuONkYdBhyvVLW2lDVm0KGEr8bp4OM3Ta0XJhmgaNG0ICWJPIxUB/SSkZ+0/+cwxisGI6hE1588cVwH9Wj6APKBQEGAhsElMrqWAUrjh8/HlqTWC5evDiZn+vUK+iLfpZuUN4p+3J66QEhfQtl8ynonrxrrHNTvZ2iVkqCdZIZi9Kmbh2QymI62bQRO3GmkaiwjWKh64bet6wS0b5xk4lpH+RRVeDdusypW12a32UcfPzxx+FedIvCcCPqiyOgmWzV7S9GTkU67k1dKYflxJWV6ZQ6x+phvPFdK+TD/7QgYAhjzInpdEts4E13rrospd2tMIZJB38yxfSLhhKkxj86RjpDrT9l5U35l/ugP3Am0FM4JrTuc9+y68jryu86hwXHkVZ/AhVcXwf8Lr/ZzxKXacHz4qBS/lX2Wdguc9zKQMaxfCSTqkCOjqPXJDMgIIdDSDBv0MS/Ez9rTK/v2wbsxJmhgmFmvmW6/uUwSgrIjC7qKlPmaAm1jilvC7Xi0B0ScAgwtpjtcN++faErHufQopSiLtpxlJiuUziAODHDGA8HGBRVXa70vnWOEcPQovXyzJkz2aFDh0K3KfaVTTQzCOTExY4p6Uc6pDPVGdMPyltlaObZVKfE6Bx6AjCmE71A2ZRDlyLHgLwcfwRaYz7VRbMO+F1aCvtZqvQIXSMp/zwv70L5JyDWz0e3Y7nKSapy4hTIi2VKLwrkjw7Q9YOmSs/q97rZWW3DTpwZGhQoGVpVSpmo0jiBYYNhq0omRgoo7vpgTBMhryqfYlSk0J2Hc1S+0/KvbY1fo9WG6DLGCVFkIrkYAWVjyLgGVF4A54WKPf5O0TDQs6XvS3mn3NdpXCBDWimIvmO40Y0K43W6SQCqiOVbhnR7fB4tgKRDP104jRHKU2XlXlSVMVCwBAeG1jhapmgNQj+gXwgQcV3VGC8FnQBnBieQQDRjzOqEMtTPUgW9ECj/lD9kwTfheCc5W73Q7f4pZfoMmdWti+PAUUyc/qOCnTgzVKRwVbgEhgXKpSwqNsqgIOm3jzziiBf/s8+TAZi2gIFES9rTTz89xaBifIQit/xPOU+nqi9zusqmsy8zEtIgB61w+nj+sFt/GM8H8QQKtFRiROFQ1V22kWtKHLXW7/f7HGWtHqQDaau0VzrgwLsVzswEJiChDqS8kJ9iaFnGMcNmwLF68803iyOXIY/i/GFzcB/KXfyBffI8LVVQlp8pJ3G5QB+Rt9Ua13R4J4JftMQJ5IBDU/a+gyB1ljRecf/+/bXqAKVjGkDEhho5uzJPPNNQ8gJHyers3bu32DM9ly5d6pw9e7aTGzfh2hMnToR9LE2E58qVYyd3XIo9nU6uZDqLFi3q7Nixo9gzXpB+pF1u4BZ7Op3Dhw9PpmcTWL16dWf+/PmNzVemf2aib6YjN7Q6eUXeWbZsWWfbtm1h2bRpU3H0MpwjHUCZX7VqVSc3wkI5APJYbniFRefkBltnYmKikxti4ZyU3CEKOjB3msK9+Y2mkBswndyQ6OTOTOfkyZPhOXnfqncZFMiPtGCNXEgLtpEzMmabdCIPoH/ZRm6kB/tYeFaePz6XhXPKZExaDSIdrG9Gl371DuWEsk8epV4kT+3ZsyeUeZE7C6GMoS+oM48fPx7+57pz586Fc9jH76JLTp8+3Tl//nzIr5TFMrgP53PvQ4cONU6vTMfFixfD81Mejxw5EsoS8uM90AHIhXLKcc6jjPPOLOxnH2UeGXH+9u3bO+vXrw/7Kf/sT0GmpAO/h6z4LfTHXMDzkEeURqQx2/38fhv0zjz+5IlgGggRi1zxZLlyyx566KFibzVEOarGN9CVRtGJpkFUnvckMkP3Kprb77333hAlG1eI1JNedH/IFU/o+kTLRlPScM2aNdlbb72Vff3117W3Hpi5oV990ytUMegmotaU8bLuwJyjLkx0maLLTww6gv26D9FU7tMt7+WVd+imiE5pWh7NjaDJmTlzo6mWAf4pRKH5LX5bLaFEpCUbmQJas58lNhH4P92vdTxWKGYQ6WB9M7rMRO+Q52gJI0+jD6gn07qRljbqTVpj0B0s2EfKP1zLwucvVBZpOaK7NnVuGdTLnMt4X3oJtKlFGZnxzLlzFmRHbyfeF9uQburoBFrIQDJSmUU3q+wDsqZFPd4HZd2kkTG2CzLlt8r0f12QXjwT+id3IMO796Nr26B37MQ1mNkYVWnhagMy0FC2dQ7wbwukoQzb2NhqAjaqRo+6nDhjZov1zehivWOaShv0jsfEjShtrOiI0OCs2IG7DGnIgGkWGy7GGGOMMUbYiTPGGGOMMcaYFmEnzhhjjDHGGGNahJ04Y4wxxhhjjGkRduKMMcYYY4wxpkXYiTPGGGOMMcaYFmEnzhhjjDHGGGNahJ04Y4wxxhhjjGkRduKMMcYYY4wxpkXYiTPGGGOMMcaYFmEnzhhjjDHGGGNahJ04Y4wxxhhjjGkRduLMSNHpdIr/TD8gN8vOGGOMMaYd2IkbQT777LPs5MmTYRknw/ydd97J1q9fn61atSpbsWJF9vnnnxdH2s25c+dCWtYBeWXLli3ZnXfeGWSGDI0xxhhjTLMZGSdu27Zt2eHDh4ut3jhy5Ei2efPmYms02L9/f3bLLbdkr776aliuvfba8J6jDs7HXXfdle3atSt7/fXXszvuuCPkiVHgvvvuC++2e/fuYs9gwMnlvitXrgwye+SRR7INGza4Rc4YY4wxpuHU6sS9/PLLwajeuXPnlIV9Tz75ZHbgwIHQEjBbMG4//PDDYICWgYFPSwMtNCxqocE4hkEbx8OC1poHH3wwyPX5558PC/8jl7NnzxZnjR7kIZyRrVu3BgcWFi1alB08eHAkHBIcUrjhhhvCehAgl3Xr1mVLlizJ7r///rBv2bJloRy9++67YdsYY4wxxjSTWp245cuXZxMTE9lTTz0VFoxEnCgi/xcvXgxOxo033hgcjZmCg4ZDiMNYhlpocNRobVi6dOmUFprnnnsue+GFF7ITJ04Ue9oL8uT9cFgF3QsBGY0qjz76aHBKWKfQFbHtkK6XLl2aDDoMgj179mSnTp0KrW/z5s0L++TwDiKwMuqgV/rVW7SM19Ut1hgz+hCAJtDWD5w/KkMLjDFTqdWJo1UEpw1wLjT2BqcKpw6DBuXy2GOPzdhwxHDHKaPbYEpZCw2O5LFjxyYNVq7btGlTeJ42t9rw7HJSU2jJwWBv8/tVQQvjK6+8ElqV4jygSuuLL74I67YjR2sQkA8IXBBgUfmE9957r/ivvWCwoFfShbLBMggH9e233w56RwGSFH4DBw9dR5BIUA7phcD1TUTG4ZkzZ8LamKbwySefhMBvk0Gvainbni3Uaeicbjrs/PnzQc/FwUvOR88PQvfVwVdffRXW//nPf8LamKZA3hxU+a2L2sfEoVAAAyY1RBcuXBjWKCci2/2CMfTGG29MdgdLoZWBBIhbaNjm9+KE4Tj30bM2hffffz+s/+///i+su4H8cFjKjH3eFQOt7swowxWHmTUGawpj9qiItJS1gNJKxFhFnHNan1iq8getVBAb1Lyn0pLW4KbDWE6en67GVLbkR2QAyJTgB/vV8kP+RbZcw37el2P8H59XBcc/+uijcH2cX/rpRkl6/Pe//y22moO6cGscIbKkFZp9yHfx4sUhb860yyiyX716dWjZLwsccZzfZc1YVFrf1F2b83HqON7EFuKrr746rK+66qqwbhJ16y7TXEj7tLdA00AfXnHFFZMLzxtvo3Ooz2bjSBGoZFFAOgW9rjqV31OdyfkEqqvspGHzz3/+M6zb1msG+RIgNN9C+UQmTQ1U9gPvQvDowoULza5/8oerlYcffpi37+TGe7HnW/KEDsdyZ65z9uzZYm/vcO+JiYnOpUuXij3fcubMmXDvXHkVey6TOwdhf/x7XL9y5crO1q1biz3N4NixY+FZ9+7dW+yp5vjx4+Hc3Fku9nwL+zh2+vTpYs/gQc6kI2kKO3bsCL8Zpzvn8Cznz58P25y7dOnSzr59+8I2bN++vbN27drJNOWZuS/vl8I5XM/v5I5QJ6+8Jhf2cV3T4Vl5B8kkr+RDXkR+gPzyiju8j/bx3vyvd8+Ng3Ae+5El+2KZpiBfzskdxSkyW7FiRdhP2ZmONWvWdL7//e9PplOT4JlIe95FcgX2k5/Yv2zZshk9O3JPdUoM+Rv5Cs5Pf4vru91jWEjfvPTSS8We4UM+Jl8i19xADfl0FCA/UAetWrVqUmc2HXQsz4veYX3o0KHiSL0gK+mbixcvFnubB89JeacMYZuwzYIOQlbIbdGiRTOydSgHVbYOcDyuR/h90khwHdd3qxeGRR16h3p0586dtZQtZIw+QsboemxKc9lWW758eSgDks+wIa12794dngkbKbYHpoMy0wa9U6sTJ8VBAS1TXDImyxy86eDeGLtVGQUjiXtT8Yj4edJEwYEjA3JOU+jHicO44VwKTwr7OFaXAfTss8+G+8fpyP/sk/x1TpoPqFTYLwezrPCTlmXPLkcdg528oIV0ZH9sTDcVlAtGapzvkBn7hdI23gdsl+1nX1k+AH5HDk4sM5ULDIFeykCTnTgFh3ivlPj9+y0P5F2uqwqGKI/HTjBBCfbF+kb5thdneS5pmhOHHiA/SmcoUFWXHpsL3nnnnVA2KfMzzYfDAH3O88ooZs32TOrufqHMtsGYAtk0ZWkqfb1x48ZiT2/w/pSDKgdMgan4uPROrJ85PtPgVZ3UoXck66p6cKbgHFJ20fWAU8DvlAWZxwn0GgEKBXZkswyzjkNH8UzkBdJH9QnP2gtt0Tu1OnGffvppSEgEhxBYSNQjR46E1gX2x05Wv3BvlFWKlB7HyUzxwj4qnxQZYL0oOJRmet/pFgp/v/TjxPXSEleHokFecgBI7zLi9Ejli2zYr5YJVYJE3Sl8VQYz6J1Tpw+HnP11Rh0xLNM07raUBTFATiwVA5FDykaVjFJnTRVVnK5cy76qyksOROrg6DmqgiIpTXbiVJbLdIMqXZZ+o7RE9MjHZe/MfakwkHt8HHnyW3FlxnHuk6bnsGmSEyeHOS3D6AkM0bZCPUB55f1UfinfTUZ5O82v5G32160DuH8bjCmeU455mUykC8qCS92Qbq6SM0FL9EmMnLi45YHr2VdnvTgT6tA76HbkPOh3xT5J6wCevayuGReQBTYg8pZcKKfIZa5a61N4DtIp7fHCM8Yt1N3gHm3QO7WOiWOcmaCPNmNBHnjggTBehT7j9IGe6Yx7uXIK69z4DesY+ioz5idXqGEsjBb1CadfeYruw7XTcfTo0SmTJsRLXiGXLsOatj1P48n+vEzqUgcau1c2RkiQHsg4HbOnbY4Dk5Qwjo2xREw2c9ttt4W8wxijFMk0N5zDWuSVQkj7meatXiCflKV/1VKVrygPeeUe3oWxWzwzM7b2kg8FYy5SlOYpmrwilRkT30A8c2tbkd4h36Tom4m8f9XYkioo9+TNNA8D41HIo3mlMXmcNFAejcsex/n9WD+aqSidUp2VV8whD+dGWrGnXeROT6gHB/m5kLohLcjbqc6gHtXYT3O5PmJceionQBegP6Dfb9NyXW58luodbAsmpMqdi2LPZTRJVVwPjJPeQbfzntSvgwJZY1swtlppkRv6YS37ZRxBHtiA2NiSi+q9YU2Whk7SuP8Ytpkvoa31Ryl5Ia+NqhYRRYlm46WrFaasdYn7ciyNjnRroel2v2HRT0ucWj3TKB/RhFxxh2OKkgwSRTy4f1W0QlGZsmfIFWPYzzPGEEmj5UPPXtZqUdYSpa4lbYuMEZmnaxKRI54/jhZJRqkMyiL5yJd9qTyF8nlcBtQ6VXVNGU1tieN5yqLh/E8LHS0H9ALot2Wc6xcsWFCarzimLry0uLGthX3ps4B0YLq/jPh+vS4zoUktcSr3cUsCKM+rO1ObKSu/TUR5NX1O6aW6dS35uQ0RcfUASPU0z69jM+1KWSVjjZeOexXoGvanuoBna1qXypnqHd6BRXki7e1S9o66RqTbVXAOthXPGfc4kr3Raw+WuuE5kQMyqXov9qNXu703x7TAuXPnwjqF4+Q1lvh+VTb4XFGlW6WzsC2ng/cZ65a4/N6T0f3cIA1roQg505zPlLKolFAUIG2lm4sWmmFBK9jExET25ZdfFnsug5yQB5G6bjKbKdxTci6L8NFCQUtRbpQVe8pR6yh5JTewQySNmQVpxeLasnvTKgJxtF7fyotnJG0yRLGIGhGZp6WYlsi8wg/RIsrQbCi7npYAiGVGGlEuNCNmm1E0nPckL7Ggb5iVkvKfVy6hlVdy6BVkSdlKW4aA/KqI40033TRlVjog/6ZlTzqRa6eDvBHfs5dl//79xdXthnwZozJf1jJv6kG6N9Un2h6FT5MMAsnp448/ntID6NZbbw26Jzcgs4MHD4Zz+oEWhTJ9hfw1CzM6jd+iPqFHB9dQD6ZQntQbYzq4V7+LbK+6Qb+h15mBnNmbsUGoP5EJMxRjP6AH0bPKp5xLPcB+7Aqel3ugXzm/27PTMwZ7FjuKewjl/X7rkzpgFmSeTZ/y4r3SHj2cI7khM1qm0joIuSA38hNrZIONUIZavLDf4jpOcklt8LmiaqZ55YVe6t22UJsTJ8MGRZJ2HVFhSSvofujmFCgzxQYXzadkNrqudev21wso47irXC9L3UYH70xXOGQbT9XLb2PUykmqAxQDaYlTHr8n+1Vh8D/E380CtskjKB4VsNiZ4L04LuMtBuUCpCuQxlSSKJbZpvFcos8kCJ69qtteTNnx6a5BZshT6UK35Keffjqkj+TZZsjvsHXr1smyd/jw4ZD/0UfTyacKGWhlTpz0GV0pL126NLngjEPa1SmmF6OH8hzft5dlkN2I5hr0gPJnml5NMJbGCelkSNNC26PyLc7ZgJykI66//vqwzUL5Ji9TN2M894uM8DJjGENV3TdZ6HLJWgZqWeBW9+mlu77u289Sph8HDfrwwQcfDI4FdSd1Po6HwPEoC0hiY2D/Ad8mph6kfuB+1IMcr0JOAfKWw8oip3wu3rsbdNFl+Mnx48dDPsQBwy7CWRPkQZ4Xh59gMXmTNGP4hvIMMuUY9yAYwLpb/aUuwvwW8lAgQXJJbf+5INZZ8f8xoxR4qs2JU6Yv68utY2WGOYWPjEdB1Ped+D9F9ywzgiicECu+6Vpo5Hz0Ysjy/DIQe116jX7NBgw3DMkNGzaEZ6SwoqzYV6dRhxLAcaJiQH6kGQqDgkIaAtFIomdsoyw5hygQhR/5xE4XSoQ8gEJhzX04PwUFgbGO8iL6xnvjyLXNGSFv4GToG2fISJUQ708aAooRQwDFRJmQ88dxyUvvjvLlXOQRQ7nZsWNHcLhxoPnmGc5Gm43+GBlSyIeIK+9L3qKSo4ynQYReqaoMQDqICpHfk24iH8NsW/51z36WtiN9XCX3UXIcuuWtYRPnpfQ5td3k558rqPvIk9g76G8t1IsEONVK1C/d8rmCtRjZjLPUIlujm9PYS/mJ79nrMhdBFr03MpdMsSWw98ivOFTo4hSOy5ak1xJ1nvQltgR2RlUaqVcZ9bQcVhY5w3UGyacD+wnbADsPOwuwA8gXckw5hzofJ1ZpxHtjN/DOrAHZkjfOnj0btgHZyqaO4TrZ8twXeSiQQB4k35cFH+pGaar/y6i7UWVOyROiFvQ9trIpiPNEDsfUd5x+qvyfK7zJPqy5Nx/OyzNfGOOSZ66wX1y6dHlGnLI+t5qBTzMbahxQt5kO+X1+h/s2BfUV72VMXAwyp482YwDncowfsuP3du/eXTnzH32xOYc+06RHKm/SG7iemUs5d7o04RzOTcfPtIG8Egjjs8izet/4PZADZYKFYyofyEn7WTiPMhKfx8K9y0D2s5FZE8fE8SyUYcpM+ly8K/vRKTNBY06RbUrZmCHpIMY4lsF9qu6Xwrv0u8yEmY5NGTQ8v8afpO+isQ7DGmsxSPQuveSBYaK0iPM3sM1+jtcJeaDpY1M05q0sXy4vxsuqbusHjbkqyyPKP3G6ICt04JIlS0r1QD96Z67oV+9QZ0nP505CsDUPHDhQHL0M785x9H0sB+VZZBcjm7RMZuxTGsbHpeOxQ4eJ6p9uM3FiD3JOmu68T/zukg9L7vCGb9Cm5V5QFjkP2cRy0Xg40mVY6J3SZ1f+70Vn8U5jOSYOr51oh6LQeP9EhGLPF28dmNGGCAERKyLleO2KHuHhE93gXkS60+ZqPOw8oSYj7zG0DBGVoJsYrRtEXGiRUJSiDO6jSE7bIepHKw2yJzo2VyA7fo/WzqrWMFpFOIdWM9IjlbciZVxPCwbnTpcmnMO5bepCKchzRMbIs3rf+D2QA2WChWMqH8hJ+1k4jzISn8dSFRlF9m2VWRWKhqMX0jyj1rK88g/rGLUcS0exRm/ESI5lLer6LX5XSP/RtaQbvXTDkU7tZ8md1uLq9hGnnaLuKdPpBDM4FE3P7YWwTiG/jTtxD4AYZKauW2U9jwBbR7on1S+SfRlKj7iVBL2FDkSndSsjvbSYobv6XdQyUyfUWdiN2JHodXQtNk+37pC9UpXHScO0XlFXQuqOYaLZwbvVJcqDaZ6It6k/sRkYN06eIi2xI7EnysZYqzWXfF0mF2zwYVGVjnrOqrLYRgbuxNEsS2HOPd6wMNZmx44dU5QG3d/IKD/72c9Clz+6OGHEKhOSAChFKcSqzMlxmrnLEoyCvXHjxmC0kTmrnArgepTBMDNdGX/729/C+q9//WtYG9MU/vGPf2T/+9//iq1mIAMidqaEjCwZRRhN6B50FTqL43L0MIRSJw7lv2TJklInTr+nsZmMLyCAQjdV9FoZetZexgzwnJzfz0KQpM2kMk0pS2NTDzJ4UgNQjkdZV6txQvYKYATH4GwIBZCkZwB9hMPFmuAnZT1GMqdMp8imiQNx6C260eHUlJHqwW5QxvpdernvbCHf8c68y/nz54MtiUOHzRd3A+xGmpd7IQ0A8nvk/SpZzxV0DYU4X6WojKa2Mtuq00g7/sdpY41scd649vHHH//OtZJHbJ9zjj6JwX2GRVVgSTprGGP16mLgThzCU2tA3CKQgpGBM4enr4KPAkKhyZOXkmJfGbQkkMEYC1QGv9FLa4Ou59wmgdEIVYagMcPiuuuuy6688spia7jIGfv9738ftpkdju3Y4ZIhqughYw5xttAxKHYildJDGExpJUClzz5FPWPQc5RVnoN7sk1ASGMZy8A5ofLtxZjgnH6XtiNdnLbEYaig88vqFFMPSovYIQE5Fk2rN+cSOXDqAaB9Ii6L/I9+iFuMsHmQo3SHxibFYBBLb8WgjzCkZbwTMOe8NAAVg66j/PSiI2TD9bP00sI3WwjKq/UL2w47T85vVdAnJXVIRJlc2Ieujp0VygJ1Bk5OL7KsE9VVam2LUV6jNwekjh75AZmRxxhDji2sVjdki4NKvpLzE1P23hpzXmWTzxUao5gGXfX+wxzDOGhqm9hkJlAQySwoNRQNAseBSw0qQSailU/G20ygMBNR4T7TOXtzzQ9+8IOw/uEPfxjWxjSFa665Jij9JkClTjm+9957s+3btweHiu3YoKDLNo4VBg76BD1DBUXlxuQDKHWdX+bEAUYaBluZAUDgiWNE03kGTTpTBtdzbpVeM5cDeExaRJd4jFugSzxTtWNUDNtwmg0nTpwI+ZB3Aeovgg7k4yZCvUiefvHFFydbOlgzmUIT6825gkAQOlABBco02/HkaRzDQAaCOgztIK0FgSPsHIzeMueLfF6ld5A7z4Aew5GmVxLORVV6cD26jfu1ufzw7JQd9IEg2INDm7YEps6vtrmH5MlaTkqZswLUE3KS0EekIz0tcFyHDc/AxCKUR/KR3ouecJcuXf4YOfmDFlrOoYUNOI+8iNzivEc5j4NnyIQ8nOYZtqk35Sihv2iY4RmG3fDAcBHyOe8bw3sih5FqGMkTsjHkhSMMUGXNJA38z3o6cuOsp4/3lcFg0GEPTK0iNwwpjX1PbGJM3axevbozf/78KQOa2wDPmz5zruwnB7ozQUyVWtSA+m4TJPWCJitgYHyTaMrEJjGky9KlS0MaLV++PExQ02bIe7wTCxMSaM3ChFRNhjqWtFi1alVYz7TO7Rdk1tQJBmJ9Ev+fQplnkgU+xBzDZG5xni6zd6ST0D9ldPvdGK7nPunkFsOmX73D86MLcsci5MXcKJ+iGyhT3A+dQT7lf2Svbc5ln/br3AULFkz+n4JNip2YO3PheBPLKpPrUD/xfsgFu5jnjmGCE87heO7who/Fx3kS2bGPe7DmXVlyB604Yypci0x1TZPyVpxmvJfeJZVJFZSpNkxs0ignbjaQOCi7fuD8fhJ1rrETZ5pKW524MqiAZJAyoxY6oQqMbSrH2cD1s71HHTTRiYNejVQzN8x1WrTFmOqXkydPdrZs2TI5Q/GuXbsqZwJEJ2GkzwZ0VzfdNiz61TvISjYbjmlZnpDO0DIdvZ7L7/Vyv2HBs+FYdXtGjlW9RxxEqJJtGU2WC44lS7/BV95nLGenHBZ0xey3iwDdDrhuLvpxG2OaCV226dLEeJSqrpSCrlKcO9Oub1xH18uZfq+uTv71r3+FNWMKmwR6vV/dbupjGGnxySefZBcuXCi22g9d0LA9mJWbcUvYIrljUjnWc0fxbc+q7n7Twb3pJhd35Wwr2Guy2ZBbWbd+6YxedUev5/J7vdxvWPBsTNrR7Rk5VvUe8bi/KtmW0WS5aLxmt9np28zIOHEU6rQ/9HSQYe3AGTO+YEgxfo1xsThxGEndpqqmsqJfPc4chlE/cD7XMSaK+zSNixcvTlkb0wQwDjvFOJ+mGor9gt1BIIeAEUEh3q9bYAcjFEduptPZo9s2bdrUyAmBFBD7y1/+EtbGNAXGXX7zzTfFVjMZGSfOGGP6RQaUnDcMqapPmggm3WBCgbLZwLrBLGBEwpsaEbz++uvD2rPhmqbx4x//uDGz4Q6CmQSPmUyDSSiYiKkfdH63yZaGiYLvP//5z8PamCZAwIi6fv78+Y0OHtmJM8aMLUSoly9fPjk7XLdWuBiUe7dul2VgrHhqfGPMTKFLZb+fdOB8ehoYY0YPO3HGmLGFiDhdHFmma4EzxhhjjGkKduKMMcYYY4wxpkXYiTPGGGOMMcaYFmEnzhhjjDHGGGNahJ04Y4wxxhhjjGkRduKMMcYYY4wxpkXYiTPGGGOMMcaYFmEnzhhjjDHGGGNahJ04Y4wxxhhjjGkRduJGlE6nE5ZxYv/+/dn999+fHT58uNhjPvvss+zAgQNBLidOnCj2GmOMMcaYNmMnbsT4/PPPs0ceeSS78847w7Jz585gyDeBO+64IzwTzzhIuN8tt9ySffTRR9m2bduyxx57LDty5EhxdHx55513srvuuiuk/7p167LVq1eHfcYYY4wxpt3YiRshMNZxks6fP5+dPHkyODIffvhhMOSHzblz57JTp05lr7/+evh/kKxfvz5bsmRJ9uSTT2YrVqwIDssLL7xQHB1PyAuk+7333hucWmSEE/3cc88VZxhjjDHGmLZiJ26EwEB/9913s1deeSWbN29edu21107u2717d3HWcLjhhhtCd8d9+/aFVrNBsWPHjuyNN97I9uzZU+zJskWLFgVncdy6k8Zs2bIlvD+OrWAbp36c5WKMMcYYMwrYiRsRMMxx3mhtwYETOHLLly/Pjh07VuwZHozLeuCBB4qt2UNr04svvhha3m688cZibxac1nHm7bffDum9efPmybxA/uD/999/f0r+MMYYY4wx7cNO3IiAQ8OYsLJWFlqmaK26dOlSsaceeIZXX30127VrV3AkGH9Fyw/wP61jLBoTx1r7NFaLrpZ0BWWZDlrfuMfatWuLPd+2NjWFs2fPhm6tPGvVO/HOnMMEJFVj1rgPx2lZ1flVPP/882GNEyeQC3lgYmKiNI8YM+5QrjxmtH7QP8h50N3qjTFm3LATNyKo9albK8ugJxSJwUGhmyTj8WgNxJG49dZbJytqWuE02YoMJRwRxmqx79FHHw1dI3EAceruu+++0IJYBYYALY/APdjWQmvT0qVLw7FhQhdWZMD7ADJIu5JyDu+PAwzIgYlp4rTCAdywYUO2cOHCMPaPrpJs864p3OfgwYPh/RkfKJnE+cMtcaZtUB7QDXU4WZSZVatWhfuzUL7qBr1IuVbAa1zgXdGBL7/8ctDxBKaMmWuoEwlql9Wh44psBcukZeQJZhrK0aNHKU2dvXv3FnuqOX78eDg3d6CKPd/CPo5xTl3wG7kTVmxdJnfCOidOnCi2OuE4zxHvg9zh6CxatKiTOzTFnk5n//794dxDhw4Ve6Zy5syZcJxl2bJlndwIC4v2rV27tjhzODz77LPhOSTzvMLo5E5Y2JcbMmEf57Dv008/DdtiYmKi8/DDD4f/uY5rYpnlRmfYx7EU5MUxFskld+Ym923durU4c3asXr26M3/+/NJnMO2kH30z10h3rFy5stgzGChLlI/t27eH7fPnz4ffqVNXotso96wPHz4c9OTmzZuLo6NL7oAHPX/69Omwzfujo3rRIdY3o8tc6x3qUvIduoSyh+1y9uzZ4uh4gu2FHYYsWG/bti3oxrZz8eLFYG+tW7fuO/ZpL7RB77glbsTJ03gyslJnCwyRcsZh0SKn3yPSzIQm3eBcWo24nhYokSvZsH7vvffCOkWtW3xSIHfostzoCkvu/IT9jJMbFrzTU089Fd6LVjZA9rQ8MrmLWiyffvrp0Fq2ePHicI6gZZHZNYlaq0WObaL33JvusdynLD3V4sYEMpJLbjRNdjmdi1YGYwaNZldlGST6BIsmAGIMMdD1uA4ow4wLpgWelnlao9CZdENn36iCjHlX9BC9EwD9SNd36XJj6oY6lV4s27dvD2Wc+hKdEveGGTewJdB/fF+XskiZpMdDm20F7CR6V1x55ZVBzx49erQ4MnrYiRtx5qr7HM4TCpFp7a+44orgqOCAyBnrBs9Hhd4PGve2cuXK8Hss3EcGgZynYYBR9sUXX3znnXgmFAogK+TTzSjlXTAqN23aFIw8Jm/hPTGG0m6ZQk4vCkxyARxsnqfqOmOaDPmW8kBwZFDw8XuCI+gu6chLxbhhBUMGjT7xQRkWmnyKSZoUABs16DaKzmadMqrvbJoHzsqCBQumTLBG8Jj5BOjiO47wCSKC3gquADLB8amj+/pcgD7HDkOfj3JwDOzEjQi9OEsY9nWBUsQowuHAWcAIIuJFQeqGjKdenr+M2Ckhys14OJ5huhbAOtE7Qfx/DE4eqKWtDJ3D2D9a1lC0VEA4dFWRQ90vfn/Oh9hYNaZpYMxr0XbMoI19TQBEK5/AmKsTtfDRmh5DizxOjoJTdYIcMW7ksJahc3qR+XTnoKcYp8ukSrGer6u105gyyKcEM1PbQGWRerKX/D5KKOCc2l+xTNoKts442Dt24kYEFBMTX6SglDAMmBCjTmh6x7HA4eD3cOh4nrqjW3FrF0YZv0kXqWGi1jU5YWXoucu6i6oiITqPY0r0GicZhYqTRmSJdZWC5boYWhuQyyA/72DMIMGYIMikbpM4NbRWURaIBqNbWDhH5YOu1OxD93E9k2RwHQYJ13ZrTaNcYdBRVuLPkyjynJahQcBzV3UPl9HEc9UJuoP3pccEC7JOfxP9iZwl87ibuyAgxDlcTyCN86r0LumCvoo/eQJ1tXYaU4YCytIfMeTjU6dOFVvjQ1WQXQF/B1qaj524EYHKkZYaKsZYSREFJbrMsbqiEvwezlusEKjU46n/eyF+vumeFWMNdJ6ivcxwGRtlw4AujMgbgw1nNgZDB6MGw4euoDi8aaWC4sTJQ4YcxzlVqxvvywyWHK+qjGLnEaOU+9HfPY3+G9MEyNu02tPVkC48GFM4aHGrMtupQYFToDJElyDuQ35nYexL3GUxRZ/ooExQJrXQpRE0Nm6QlJXXFL1zHSAvuqMyTpauqegoZB13cWQfx0gH5I1OR66xU8tYZ45xHuu0zknBWQZ6SSBjfo8125C2jBhTJ7IdYpR/eymjo8R0dhbyGDeZtA07cSOEKmMqWUEfcFphNHC/TjCkFNVl/eabb05+qwxjQJU2hgPHWWhNwsnE4eEc9mGAaSAq12AspODg8F5cj5FBVBmnkWdoAjhqGD6/+tWvwnuhCHHoMHoYF4fypJUSo41tvgPHe5B2yAIjU4Yk5+C4cVz3YV+Zkcq9MGpZkCWtbwxcRj7GNBGcLvJzbCzQso+xRTnB0cK5IEARwxgORYzpaUDZ53zKDa1xZQESIYdQwRAtaonj94ZBXa1T6COCXDhPCnKpJU3dSTkHh4tzFPBBntQrcsAAnfvll18GfSRwssu6xCNTZI2uJo3YppumdFTaxdKYukmDmeRxFqi7O3VTKXNsQTbbKIDuGUXsxI0QRDRxeKiIKZQsGAXsqyOyHIPRQysYXW8wDlgzjgvngcKDU/Kzn/0snEMljrHEs7HeuHFj6J7Dcyq6e80114RzqeS5Ni2AvA/OEa1UGHzMNqXvxjUBPR/PhQONTHBM4y6QpBeOlro6Ykxh2CATjfXjPhhIGFs4bdyH9+ScsjTlnocOHQoyIQ00C54xg4a8imHf66JJPVLI65SB2267bbL7Hnqg6vwyUiNEjkFZxc0+tXgRSKF1ioUyQys2jt2wWvNlTA4a6Z24RQ25I2cFg6Q/5RgLyRL9heyQE2mPjLiWwBPXlOkZOcXoL8mZRc/BdXW9szFlpDqBbe2LAxPjgN47DR5pv/SkaTB5YpmGklealKQZfT8ld5T8TR1TG/5u0+jRr77JDZ7wPbV+lir4lk9u2Iff1/Jw8a1EIJ/ljkBY4jx34sSJcG76DSC22c93glK4nmP8Xnyvffv2hf2s60C/yxL/Luh5u8loNvBNLO6PvMrgeXJHuvTZyp6b59X5LIsWLZr8/mUM78PxNH34jif7+d5nL1jfjC6zsXP6QXkRHRJDnlL5KNMXowzfxywrn8iB/cil7WVO6a5vgfaDvxNnBkKeTpOziWlhXzfiLgLGzIY077EYQ7ckWtr7Wcog2kurMtFgvm1ICz4tNUzIQzfjuuD5Yx2pCYDqarnmt+hZUIYmPClrXR8E6kLWrd5Q61hVa4QmYyKd6F1AutH1PTcAw33jsXUpujfQ+4DeIswiPOzxy2Z86Fa2VP7GzWaqkkksD9uRzcZOXAv4zW9+Ez5aGC933313cdSY+sCgS/Mey/Hjx4szjJkddLmjyzBg1OtzJVDHGBWMEiZEiaHrM4ZL1Uf0B4W6KqbdlChnOElVY1Nmi8b40X0yhe6QvLOeLe1ahdMF6vpId1dNDEOXTBw60g/5pU6iJi2JjUW6sOIs99Nd1pjZQtki35UFMuhGzZj6cXNY6OZchvRTqidN87AT12B+9KMfhUJUtsSRTWPq4nvf+15p/mP5xS9+UZxlzMzBcKJlRuOngH0YXPGkF4zDgtjQ0kys7JNxxlrOX9WYDhwSnc85TIqydevWMEtmneAA8V7xp1dwkjQjZ11GJK2LlFlm34zljAOnljda0nAkGbMWG7rIhmeOJ8zinFi23AODMH1+nDgmNJFjSMsd18YTNxkzF5A3CWYwWUfc2qy8GX8vclxgcij0Qvp5BcnE4+lbQK6sjTHGjDlzNTYlhTELjE9jnFRuZHV27twZtjU2TePF4oWxXYxtSfdr/EO8pGNg4Pz5852JiYlO7jiF39q9e3dxpH7279/fyZ2l8NsHDhzorFixorNp06biaH3khmsYZ7hgwYIgZ+QdjzsE5JIbdZ3ceQ7nIBvkd/bs2eKMTthm4RjvsHHjxnBN7owWZ0zl8OHDk+/LNadPny6O9I7HxI0uc6l3VO4pb+Qltil/lIVxhbGsCxcuDPoWmbDNGNdnn322OKOd8D7UHatWrQr5C51G3cK+XvVIG/TOPP7kL2iMMWaMoTWMSHVuTGUPPfRQsbd+1KJDa4+67tGCE7fqpNWUjsX7q85PW4di6EapboJzCe9J10ZaBJiRU7PRzgW5QRJ+Gxmru2MKz0WLHbLhu5cxtIjSQsp9mEk4d8yyxYsXF0fL4X5cR5e2mch6zZo12VtvvZV9/fXXc55Wpl7mWu+gb2hVVtdifrspnyYaFugjWuIpo7SQ82mobt/ZbAPor7jFVaA/0Lm90Aa9YyfOGGPM0Jw4Y6bDTtzoYr1jmoqdOGOMMa1AxtTNN9+cXXfddcXey9x+++3ZM888U2wZUw9fffVVds899xRb38I4JgwpO3Gjh/TO448/nv3yl78s9l6GFt66JvsxRly4cOE74wLhiSeeyD744AM7ccYYY5qNjKkyiEi+9tprxZYx9UD3p6qumfPnz7cTN4JY75hh02a9YyfOGGNMgHFOZVCB2Xg2c0FVHoR0fJ5pP3//+9+zP/zhD8XWVH7yk5+E7wkaUyfffPNN9rvf/a7YmspVV10VvoXZVOzEGWOMMcYYY0yLcFjLGGOMMcYYY1qEnThjjDHGGGOMaRF24owxxhhjjDGmRdiJM8YYY4wxxpgWYSfOGGOMMcYYY1qEnThjjDHGGGOMaRF24owxxhhjjDGmRdiJM8YYY4wxxpgWYSfOGGOMMcYYY1qEnThjjDHGGGOMaRF24owxxhhjjDGmRdiJM8YYY4wxxpjWkGX/D+YFeqqasOU/AAAAAElFTkSuQmCC)\n",
        "\n",
        "Der Translationsvektor **v** = [vₓ v<sub>y</sub> v<sub>z</sub>] verschiebt den zu transformierenden Punkt. Diese werden mit der unteren Reihe [0 0 0 1] zur Transformationsmatrix\n",
        "\n",
        "![Transformation.png](data:image/png;base64,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)\n",
        "\n",
        "zusammengefügt, welche vom Koordinatensystem A nach B transformiert. Die untere Zeile wird angefügt, da sich mit quadratischen Matrizen besser rechnen lässt. Daher werden auch zu transformierende dreidimensionale Positionsvektoren um eine 1 ergänzt.\n",
        "\n",
        "\n",
        "Stellen Sie die Rotationsmatrix mit Rotation 0 (Einheitsmatrix) und den Translationsvektor mit 0 Translation auf und nutzen Sie diese um die Translationsmatrix zu erzeugen.\n",
        "\n",
        "\n"
      ],
      "metadata": {
        "id": "mL8BjYoLhbh9"
      }
    },
    {
      "cell_type": "code",
      "source": [
        "import numpy as np\n",
        "\n",
        "# Rotationsmatrix mit 0°\n",
        "norotation = np.identity(3)\n",
        "# Translationsmatrix\n",
        "# reshape() erzeugt aus dem 1D einen 2D array\n",
        "notranslation = np.zeros(3).reshape(3,1)\n",
        "\n",
        "#Transformationsmatrix\n",
        "notransformation = np.concatenate((norotation, notranslation), axis = 1)\n",
        "notransformation = np.concatenate((notransformation, [[0,0,0,1]]), axis = 0)\n",
        "\n",
        "print(notransformation)"
      ],
      "metadata": {
        "id": "HO0FvGSve6wz",
        "colab": {
          "base_uri": "https://localhost:8080/"
        },
        "outputId": "33c85e4e-82b1-41d3-d2d0-08e1373243d9"
      },
      "execution_count": null,
      "outputs": [
        {
          "output_type": "stream",
          "name": "stdout",
          "text": [
            "[[1. 0. 0. 0.]\n",
            " [0. 1. 0. 0.]\n",
            " [0. 0. 1. 0.]\n",
            " [0. 0. 0. 1.]]\n"
          ]
        }
      ]
    },
    {
      "cell_type": "markdown",
      "source": [
        "Transformieren Sie den Punkt <sup>A</sup>**P** = [4 4 0] im Koordinatensystem A zum Punkt <sup>B</sup>**P** im Koordinatensystem B:\n",
        "\n",
        "![AB.png](data:image/png;base64,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)\n",
        "\n",
        "Hierbei ist die Transformationen A nach B eine Rotation um pi/4 um die z-Achse\n",
        "\n",
        "Transformieren Sie den Punkt weiter ins nach Koordinatensystem D. Die Transformation von B nach C rotiert um die y-Achse um -pi. C nach D ist eine Translation entlang x um 42 und y um 12.\n",
        "\n",
        "![BD.png](data:image/png;base64,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)"
      ],
      "metadata": {
        "id": "VhEkcRnze7pa"
      }
    },
    {
      "cell_type": "code",
      "source": [
        "P_A = np.array([[4,4,0,1]]).T\n",
        "theta_z = np.pi/4\n",
        "T_AB = np.array([[],\n",
        "               [],\n",
        "               [],\n",
        "               []])\n",
        "#Multiplikation von T_AB und P_A\n"
      ],
      "metadata": {
        "id": "I_r7uBIhe8E5"
      },
      "execution_count": null,
      "outputs": []
    },
    {
      "cell_type": "markdown",
      "source": [
        "### Aufgabe Lineares Gleichungssystem lösen (leicht)\n",
        "\n",
        "Aus zwei Kaffeesorten werden Mischungen hergestellt. Mischt man die Sorten im Verhältnis 1 : 4, so betragen die Rohstoffkosten € 6,40/kg.\n",
        "\n",
        "Mischt man die Sorten im Verhältnis 4 : 1, so betragen die Rohstoffkosten € 7,60/kg.\n",
        "\n",
        "Wie viel kostet 1 kg jeder Sorte?\n",
        "\n",
        "Stellen Sie ein Lineares Gleichungssystem auf und Lösen Sie es mit numpy.\n",
        "\n",
        "[Link zur Dokumentation von numpy](https://numpy.org/doc/stable/reference/generated/numpy.linalg.solve.html)"
      ],
      "metadata": {
        "id": "S7gVe138sZFq"
      }
    },
    {
      "cell_type": "code",
      "source": [
        ""
      ],
      "metadata": {
        "id": "7TWYDUxutA-6"
      },
      "execution_count": null,
      "outputs": []
    },
    {
      "cell_type": "markdown",
      "source": [
        "### Aufgabe Lineares Gleichungssystem Lösen (knifflig)\n",
        "\n",
        "Auf der folgenden [Website](http://www.matheprisma.uni-wuppertal.de/Module/CT/index.htm) wird die Funktionsweise eines Computer-Tomographenmodell beschrieben.\n",
        "\n",
        "\n",
        "Vereinfacht gesprochen wird ein Körper (hier bestehend aus vier Zellen Z1 bis Z4) auf verschiedenen Positionen mit Strahlen durchleuchtet. Je nachdem wie dicht die Zellen sind (Knochen, Blut, Knorpel, etc.) (Parameter $\\mu$), werden die Strahlen entsprechend gedämpft und nur ein Teil der eingetrahlten Strahlung wird am Ausgang gemessen ($m_1$ bis $m_4$).\n",
        "\n",
        "Somit gilt für den oberen waagerechten Strahl z.B.:\n",
        "$0 \\cdot \\mu_1+ 0 \\cdot \\mu_2 + 1 \\cdot\\mu_3+ 1 \\cdot \\mu_4 =m_2=1.3$\n",
        "![](http://www.matheprisma.uni-wuppertal.de/Module/CT/ModImgs/koord4.gif)\n",
        "\n",
        "![koord4.gif](data:image/gif;base64,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)\n",
        "\n",
        "Stellen Sie das lineare Gleichungssystem auf und Übertragen Sie es in numpy-Matrizen, um es zu lösen.\n",
        "\n",
        "[Link zur Dokumentation von numpy](https://numpy.org/doc/stable/reference/generated/numpy.linalg.solve.html)\n"
      ],
      "metadata": {
        "id": "xYCaNL0ghV-E"
      }
    },
    {
      "cell_type": "code",
      "source": [
        ""
      ],
      "metadata": {
        "id": "JsSOI0Qog-lM"
      },
      "execution_count": null,
      "outputs": []
    },
    {
      "cell_type": "markdown",
      "source": [
        "## Warum ist das Problem nicht lösbar?\n",
        "\n",
        "- Was bedeutet der Fehler ```LinAlgError: Singular matrix```\n",
        "- Finden Sie einen anderen Weg zu einer Lösung zu kommen indem Sie das Pakte ```np.linalg```nutzen"
      ],
      "metadata": {
        "id": "NZsooUrKpgYo"
      }
    },
    {
      "cell_type": "code",
      "source": [
        ""
      ],
      "metadata": {
        "id": "Qk7_gJxVofTr"
      },
      "execution_count": null,
      "outputs": []
    },
    {
      "cell_type": "markdown",
      "source": [
        "## Pandas\n",
        "\n",
        "pandas ist eine Programmbibliothek für die Programmiersprache Python, die Hilfsmittel für die Verwaltung von Daten und deren Analyse anbietet. Insbesondere enthält sie Datenstrukturen und Operatoren für den Zugriff auf numerische Tabellen und Zeitreihen. [Wikipedia](https://de.wikipedia.org/wiki/Pandas_(Software))\n",
        "\n",
        "\n",
        "Im Folgenden haben Sie ein Datenset mit den Trainingsdaten eines Sportlers. Die Dauer des Trainings in Minuten, der durchschnittliche und der Maximalpuls und der Kalorienverbauch in kcal wurden erfasst. Zudem wie viele Stunden der Sportler an diesem Tag vor dem Trainings gearbeitet und wie viele Stunden er geschlafen hat. Beantworten Sie die folgenden Fragen:"
      ],
      "metadata": {
        "id": "cX-c-BgnbuyM"
      }
    },
    {
      "cell_type": "code",
      "source": [
        "import pandas as pd\n",
        "import numpy as np\n",
        "df2 = pd.DataFrame(np.array([[30,80,120,240,10,7], [30,85,120,250,10,7 ], [45,90,130,260,8,7 ],[45,95,130,270,8,7 ],[45,100,140,280,0,7 ],[60,105,140,290,7,8],[60,110,145,300,7,8],[60,115,145,310,8,8],[75,120,150,320,0,8],[75,125,150,330,8,8]]),\n",
        "                   columns=[\"Duration\", \"Average_Pulse\", \"Max_Pulse\" , \"Calorie_Burnage\", \"Hours_Work\" , \"Hours_Sleep\"])\n",
        "df2.head()"
      ],
      "metadata": {
        "colab": {
          "base_uri": "https://localhost:8080/"
        },
        "id": "eEiNntA7ue6v",
        "outputId": "d48b99e2-5d79-4292-9755-436f2094eb63"
      },
      "execution_count": null,
      "outputs": [
        {
          "output_type": "execute_result",
          "data": {
            "text/plain": [
              "   Duration  Average_Pulse  Max_Pulse  Calorie_Burnage  Hours_Work  \\\n",
              "0        30             80        120              240          10   \n",
              "1        30             85        120              250          10   \n",
              "2        45             90        130              260           8   \n",
              "3        45             95        130              270           8   \n",
              "4        45            100        140              280           0   \n",
              "\n",
              "   Hours_Sleep  \n",
              "0            7  \n",
              "1            7  \n",
              "2            7  \n",
              "3            7  \n",
              "4            7  "
            ],
            "text/html": [
              "\n",
              "  <div id=\"df-2e321410-fbd8-42c9-afab-f37a6bee1948\">\n",
              "    <div class=\"colab-df-container\">\n",
              "      <div>\n",
              "<style scoped>\n",
              "    .dataframe tbody tr th:only-of-type {\n",
              "        vertical-align: middle;\n",
              "    }\n",
              "\n",
              "    .dataframe tbody tr th {\n",
              "        vertical-align: top;\n",
              "    }\n",
              "\n",
              "    .dataframe thead th {\n",
              "        text-align: right;\n",
              "    }\n",
              "</style>\n",
              "<table border=\"1\" class=\"dataframe\">\n",
              "  <thead>\n",
              "    <tr style=\"text-align: right;\">\n",
              "      <th></th>\n",
              "      <th>Duration</th>\n",
              "      <th>Average_Pulse</th>\n",
              "      <th>Max_Pulse</th>\n",
              "      <th>Calorie_Burnage</th>\n",
              "      <th>Hours_Work</th>\n",
              "      <th>Hours_Sleep</th>\n",
              "    </tr>\n",
              "  </thead>\n",
              "  <tbody>\n",
              "    <tr>\n",
              "      <th>0</th>\n",
              "      <td>30</td>\n",
              "      <td>80</td>\n",
              "      <td>120</td>\n",
              "      <td>240</td>\n",
              "      <td>10</td>\n",
              "      <td>7</td>\n",
              "    </tr>\n",
              "    <tr>\n",
              "      <th>1</th>\n",
              "      <td>30</td>\n",
              "      <td>85</td>\n",
              "      <td>120</td>\n",
              "      <td>250</td>\n",
              "      <td>10</td>\n",
              "      <td>7</td>\n",
              "    </tr>\n",
              "    <tr>\n",
              "      <th>2</th>\n",
              "      <td>45</td>\n",
              "      <td>90</td>\n",
              "      <td>130</td>\n",
              "      <td>260</td>\n",
              "      <td>8</td>\n",
              "      <td>7</td>\n",
              "    </tr>\n",
              "    <tr>\n",
              "      <th>3</th>\n",
              "      <td>45</td>\n",
              "      <td>95</td>\n",
              "      <td>130</td>\n",
              "      <td>270</td>\n",
              "      <td>8</td>\n",
              "      <td>7</td>\n",
              "    </tr>\n",
              "    <tr>\n",
              "      <th>4</th>\n",
              "      <td>45</td>\n",
              "      <td>100</td>\n",
              "      <td>140</td>\n",
              "      <td>280</td>\n",
              "      <td>0</td>\n",
              "      <td>7</td>\n",
              "    </tr>\n",
              "  </tbody>\n",
              "</table>\n",
              "</div>\n",
              "      <button class=\"colab-df-convert\" onclick=\"convertToInteractive('df-2e321410-fbd8-42c9-afab-f37a6bee1948')\"\n",
              "              title=\"Convert this dataframe to an interactive table.\"\n",
              "              style=\"display:none;\">\n",
              "        \n",
              "  <svg xmlns=\"http://www.w3.org/2000/svg\" height=\"24px\"viewBox=\"0 0 24 24\"\n",
              "       width=\"24px\">\n",
              "    <path d=\"M0 0h24v24H0V0z\" fill=\"none\"/>\n",
              "    <path d=\"M18.56 5.44l.94 2.06.94-2.06 2.06-.94-2.06-.94-.94-2.06-.94 2.06-2.06.94zm-11 1L8.5 8.5l.94-2.06 2.06-.94-2.06-.94L8.5 2.5l-.94 2.06-2.06.94zm10 10l.94 2.06.94-2.06 2.06-.94-2.06-.94-.94-2.06-.94 2.06-2.06.94z\"/><path d=\"M17.41 7.96l-1.37-1.37c-.4-.4-.92-.59-1.43-.59-.52 0-1.04.2-1.43.59L10.3 9.45l-7.72 7.72c-.78.78-.78 2.05 0 2.83L4 21.41c.39.39.9.59 1.41.59.51 0 1.02-.2 1.41-.59l7.78-7.78 2.81-2.81c.8-.78.8-2.07 0-2.86zM5.41 20L4 18.59l7.72-7.72 1.47 1.35L5.41 20z\"/>\n",
              "  </svg>\n",
              "      </button>\n",
              "      \n",
              "  <style>\n",
              "    .colab-df-container {\n",
              "      display:flex;\n",
              "      flex-wrap:wrap;\n",
              "      gap: 12px;\n",
              "    }\n",
              "\n",
              "    .colab-df-convert {\n",
              "      background-color: #E8F0FE;\n",
              "      border: none;\n",
              "      border-radius: 50%;\n",
              "      cursor: pointer;\n",
              "      display: none;\n",
              "      fill: #1967D2;\n",
              "      height: 32px;\n",
              "      padding: 0 0 0 0;\n",
              "      width: 32px;\n",
              "    }\n",
              "\n",
              "    .colab-df-convert:hover {\n",
              "      background-color: #E2EBFA;\n",
              "      box-shadow: 0px 1px 2px rgba(60, 64, 67, 0.3), 0px 1px 3px 1px rgba(60, 64, 67, 0.15);\n",
              "      fill: #174EA6;\n",
              "    }\n",
              "\n",
              "    [theme=dark] .colab-df-convert {\n",
              "      background-color: #3B4455;\n",
              "      fill: #D2E3FC;\n",
              "    }\n",
              "\n",
              "    [theme=dark] .colab-df-convert:hover {\n",
              "      background-color: #434B5C;\n",
              "      box-shadow: 0px 1px 3px 1px rgba(0, 0, 0, 0.15);\n",
              "      filter: drop-shadow(0px 1px 2px rgba(0, 0, 0, 0.3));\n",
              "      fill: #FFFFFF;\n",
              "    }\n",
              "  </style>\n",
              "\n",
              "      <script>\n",
              "        const buttonEl =\n",
              "          document.querySelector('#df-2e321410-fbd8-42c9-afab-f37a6bee1948 button.colab-df-convert');\n",
              "        buttonEl.style.display =\n",
              "          google.colab.kernel.accessAllowed ? 'block' : 'none';\n",
              "\n",
              "        async function convertToInteractive(key) {\n",
              "          const element = document.querySelector('#df-2e321410-fbd8-42c9-afab-f37a6bee1948');\n",
              "          const dataTable =\n",
              "            await google.colab.kernel.invokeFunction('convertToInteractive',\n",
              "                                                     [key], {});\n",
              "          if (!dataTable) return;\n",
              "\n",
              "          const docLinkHtml = 'Like what you see? Visit the ' +\n",
              "            '<a target=\"_blank\" href=https://colab.research.google.com/notebooks/data_table.ipynb>data table notebook</a>'\n",
              "            + ' to learn more about interactive tables.';\n",
              "          element.innerHTML = '';\n",
              "          dataTable['output_type'] = 'display_data';\n",
              "          await google.colab.output.renderOutput(dataTable, element);\n",
              "          const docLink = document.createElement('div');\n",
              "          docLink.innerHTML = docLinkHtml;\n",
              "          element.appendChild(docLink);\n",
              "        }\n",
              "      </script>\n",
              "    </div>\n",
              "  </div>\n",
              "  "
            ]
          },
          "metadata": {},
          "execution_count": 2
        }
      ]
    },
    {
      "cell_type": "markdown",
      "source": [
        "1. Wie hoch über dem Durschnittspuls liegt der Maximalpuls jedes Trainings und im Durchschnitt?"
      ],
      "metadata": {
        "id": "hTKxwIIRbkZ4"
      }
    },
    {
      "cell_type": "code",
      "source": [
        ""
      ],
      "metadata": {
        "id": "9Zp9qoUjcMaG"
      },
      "execution_count": null,
      "outputs": []
    },
    {
      "cell_type": "markdown",
      "source": [
        "2. Wie lange schlafen und arbeiten Versuchspersonen im Durchschnitt?"
      ],
      "metadata": {
        "id": "FoWxP0urb0Yv"
      }
    },
    {
      "cell_type": "code",
      "source": [
        ""
      ],
      "metadata": {
        "id": "FiLkwU0ycVbv"
      },
      "execution_count": null,
      "outputs": []
    },
    {
      "cell_type": "markdown",
      "source": [
        "3. Hinzufügen einer neuen Beobachtung hinzu:\n",
        "\n",
        "Duration = 30\tAverage_Pulse = 55\tMax_Pulse= 120\tCalorie_Burnage = 400\tHours_Work= 2\tHours_Sleep = 9"
      ],
      "metadata": {
        "id": "O3Siavjvb2Lu"
      }
    },
    {
      "cell_type": "code",
      "source": [
        ""
      ],
      "metadata": {
        "id": "fjpNH71KZiRW"
      },
      "execution_count": null,
      "outputs": []
    },
    {
      "cell_type": "markdown",
      "source": [
        "4. An welchen Tagen wurde mehr als 9 Stunden gearbeitet?"
      ],
      "metadata": {
        "id": "Njl2AASYcilZ"
      }
    },
    {
      "cell_type": "code",
      "source": [
        ""
      ],
      "metadata": {
        "id": "-opQqt__ukeD"
      },
      "execution_count": null,
      "outputs": []
    },
    {
      "cell_type": "markdown",
      "source": [
        "5. Speichern Sie diese Tage in einem neuen DataFrame"
      ],
      "metadata": {
        "id": "v9Jd1uRVulPr"
      }
    },
    {
      "cell_type": "code",
      "source": [
        ""
      ],
      "metadata": {
        "id": "cTz_yNusciGX"
      },
      "execution_count": null,
      "outputs": []
    },
    {
      "cell_type": "markdown",
      "source": [
        "6. Visualisieren Sie den Verlauf von Arbeitszeit und Trainingszeit über die Zeit."
      ],
      "metadata": {
        "id": "SuW5p-Wfwoxe"
      }
    },
    {
      "cell_type": "code",
      "source": [
        ""
      ],
      "metadata": {
        "id": "7Ll92LnTwvLN"
      },
      "execution_count": null,
      "outputs": []
    }
  ]
}